{
 "cells": [
  {
   "attachments": {},
   "cell_type": "markdown",
   "metadata": {},
   "source": [
    "LOGISTIC REGRESSION :\n",
    "\n",
    "Here, we try to implement the logistic regression model first on our own.\n",
    "\n",
    "We first import the dataset we're using (Breast Cancer Diagnosis)"
   ]
  },
  {
   "cell_type": "code",
   "execution_count": 1,
   "metadata": {},
   "outputs": [
    {
     "name": "stdout",
     "output_type": "stream",
     "text": [
      "dict_keys(['data', 'target', 'frame', 'target_names', 'DESCR', 'feature_names', 'filename', 'data_module'])\n",
      "['mean radius' 'mean texture' 'mean perimeter' 'mean area'\n",
      " 'mean smoothness' 'mean compactness' 'mean concavity'\n",
      " 'mean concave points' 'mean symmetry' 'mean fractal dimension'\n",
      " 'radius error' 'texture error' 'perimeter error' 'area error'\n",
      " 'smoothness error' 'compactness error' 'concavity error'\n",
      " 'concave points error' 'symmetry error' 'fractal dimension error'\n",
      " 'worst radius' 'worst texture' 'worst perimeter' 'worst area'\n",
      " 'worst smoothness' 'worst compactness' 'worst concavity'\n",
      " 'worst concave points' 'worst symmetry' 'worst fractal dimension']\n",
      "['malignant' 'benign']\n"
     ]
    }
   ],
   "source": [
    "from sklearn import datasets\n",
    "from sklearn.metrics import confusion_matrix\n",
    "from sklearn.model_selection import train_test_split\n",
    "import matplotlib.pyplot as plt\n",
    "import numpy as np\n",
    "import math\n",
    "\n",
    "data = datasets.load_breast_cancer()\n",
    "print(data.keys())\n",
    "print(data['feature_names'])\n",
    "print(data['target_names'])\n",
    "\n",
    "X = data['data']\n",
    "y = data['target']\n",
    "noOfFeatures = X.shape[1]"
   ]
  },
  {
   "attachments": {},
   "cell_type": "markdown",
   "metadata": {},
   "source": [
    "From this, we see the available features in the dataset. Taking these features and applying feature scaling to them."
   ]
  },
  {
   "cell_type": "code",
   "execution_count": 2,
   "metadata": {},
   "outputs": [
    {
     "name": "stdout",
     "output_type": "stream",
     "text": [
      "Number of features : 30\n",
      "Shape of X : (569, 30)\n",
      "Shape of y : (569,)\n",
      "Shape of X_train : (426, 30)\n",
      "Shape of X_test : (143, 30)\n",
      "Shape of y_train : (426,)\n",
      "Shape of y_test : (143,)\n"
     ]
    }
   ],
   "source": [
    "print(\"Number of features :\", noOfFeatures)\n",
    "print(\"Shape of X :\", X.shape)\n",
    "print(\"Shape of y :\", y.shape)\n",
    "\n",
    "maxValues = [X[:,i].max() for i in range(noOfFeatures)]\n",
    "for i in range(noOfFeatures):\n",
    "    X[:,i] = X[:,i] / maxValues[i]\n",
    "\n",
    "X_train, X_test, y_train, y_test = train_test_split(X, y)\n",
    "print(\"Shape of X_train :\", X_train.shape)\n",
    "print(\"Shape of X_test :\", X_test.shape)\n",
    "print(\"Shape of y_train :\", y_train.shape)\n",
    "print(\"Shape of y_test :\", y_test.shape)"
   ]
  },
  {
   "attachments": {},
   "cell_type": "markdown",
   "metadata": {},
   "source": [
    "First, we create an nd array for the weights of each feature and set the learning rate."
   ]
  },
  {
   "cell_type": "code",
   "execution_count": 3,
   "metadata": {},
   "outputs": [
    {
     "name": "stdout",
     "output_type": "stream",
     "text": [
      "The set of weights initially : [0. 0. 0. 0. 0. 0. 0. 0. 0. 0. 0. 0. 0. 0. 0. 0. 0. 0. 0. 0. 0. 0. 0. 0.\n",
      " 0. 0. 0. 0. 0. 0.]\n",
      "The shape of w : (30,)\n",
      "The number of training examples : 426\n",
      "The learning rate is set to : 0.01\n",
      "The initial value of b is : 0.0\n"
     ]
    }
   ],
   "source": [
    "w = np.array([0.0 for i in range(noOfFeatures)])\n",
    "\n",
    "print(\"The set of weights initially :\", w)\n",
    "print(\"The shape of w :\", w.shape)\n",
    "\n",
    "b = 0.0\n",
    "alpha = 0.01\n",
    "\n",
    "m = X_train.shape[0]\n",
    "print(\"The number of training examples :\", m)\n",
    "print(\"The learning rate is set to :\", alpha)\n",
    "print(\"The initial value of b is :\", b)"
   ]
  },
  {
   "attachments": {},
   "cell_type": "markdown",
   "metadata": {},
   "source": [
    "The function for this model is :\n",
    "    \n",
    "$ f(x) = g(w.x + b) = \\frac{1}{1 + e^{-(w.x+b)}} $\n",
    "\n",
    "    z = w.x + b\n",
    "\n",
    "The cost function is given by : \n",
    "\n",
    "$\n",
    "J_{w, b} = \\frac{1}{m}\\sum\\limits_{i=1}^{m}-y^{(i)}log(f_{w, b}(x^{(i)})) - (1 - y^{(i)})log(1 - f_{w, b}(x^{(i)}))\n",
    "$\n",
    "\n",
    "On applying this cost function to the gradient descent algorithm, we get the update formulae for $w_{j}$ and b as follows :\n",
    "\n",
    "$\n",
    "w_{j} = w_{j} - \\alpha * \\frac{1}{m}\\sum\\limits_{i=1}^{m}(f_{w, b}(x^{(i)}) - y^{(i)})x_{j}^{(i)}\n",
    "$\n",
    "\n",
    "$\n",
    "b = b - \\alpha * \\frac{1}{m}\\sum\\limits_{i=1}^{m}(f_{w, b}(x^{(i)}) - y^{(i)})\n",
    "$"
   ]
  },
  {
   "cell_type": "code",
   "execution_count": 4,
   "metadata": {},
   "outputs": [],
   "source": [
    "J = []\n",
    "\n",
    "noOfIterations = 50000\n",
    "\n",
    "for iteration in range(noOfIterations):\n",
    "\n",
    "    z = np.dot(X_train, w) + b\n",
    "    z *= -1\n",
    "    ez = np.power(math.e, z)\n",
    "    f = 1 / (1+ez)\n",
    "\n",
    "    cost = ((-1*y_train*np.log(f)) - ((1 - y_train)*np.log(1 - f))).mean()\n",
    "    J.append(cost)\n",
    "\n",
    "    # Calculating loss for each individual feature\n",
    "    currentDifference = np.subtract(f, y_train)\n",
    "    for i in range(noOfFeatures):\n",
    "        loss = (np.multiply(currentDifference, X_train[:, i])).mean()\n",
    "        w[i] = w[i] - (alpha*loss)\n",
    "    \n",
    "    # Calculating b separately\n",
    "    loss = (currentDifference).mean()\n",
    "    b = b - (alpha*loss)"
   ]
  },
  {
   "attachments": {},
   "cell_type": "markdown",
   "metadata": {},
   "source": [
    "Now, plotting J against the number of iterations after gradient descent has been executed above."
   ]
  },
  {
   "cell_type": "code",
   "execution_count": 5,
   "metadata": {},
   "outputs": [
    {
     "name": "stdout",
     "output_type": "stream",
     "text": [
      "The set of weights is now : [-0.61899135 -1.01292005 -0.78338787 -2.14130081  1.18728043 -0.87715647\n",
      " -2.64300706 -4.09806367  1.31299     3.62881535 -1.90273828  0.19386438\n",
      " -1.4877095  -1.48121059  0.36595596  0.97517941  0.88240867  0.33390426\n",
      "  0.94719163  1.10887503 -1.77443003 -1.90269824 -1.72113281 -2.67554249\n",
      " -0.06963241 -1.52906265 -1.96084348 -4.14358773 -0.37730285  0.83785137]\n",
      "b is now : 5.339095004072882\n"
     ]
    },
    {
     "data": {
      "image/png": "[encoded data removed]",
      "text/plain": [
       "<Figure size 640x480 with 1 Axes>"
      ]
     },
     "metadata": {},
     "output_type": "display_data"
    },
    {
     "name": "stdout",
     "output_type": "stream",
     "text": [
      "Initial Cost : 0.6931471805599453\n",
      "Final Cost : 0.14795546085529127\n"
     ]
    }
   ],
   "source": [
    "print(\"The set of weights is now :\", w)\n",
    "print(\"b is now :\", b)\n",
    "\n",
    "iterations = [i for i in range(1, noOfIterations+1)]\n",
    "\n",
    "plt.plot(iterations, J)\n",
    "plt.show()\n",
    "\n",
    "print(\"Initial Cost :\", J[0])\n",
    "print(\"Final Cost :\", J[-1])"
   ]
  },
  {
   "attachments": {},
   "cell_type": "markdown",
   "metadata": {},
   "source": [
    "Calculating the error in our model using a confusion matrix :"
   ]
  },
  {
   "cell_type": "code",
   "execution_count": 6,
   "metadata": {},
   "outputs": [
    {
     "name": "stdout",
     "output_type": "stream",
     "text": [
      "Model Predictions : \n",
      "[0. 1. 0. 1. 1. 1. 1. 1. 1. 0. 1. 1. 1. 0. 1. 1. 1. 1. 1. 1. 0. 1. 1. 0.\n",
      " 1. 0. 1. 1. 0. 0. 0. 1. 1. 1. 1. 1. 0. 1. 1. 1. 0. 1. 1. 1. 0. 1. 1. 1.\n",
      " 1. 1. 1. 1. 1. 1. 1. 1. 0. 1. 1. 0. 1. 0. 1. 1. 0. 1. 1. 1. 1. 1. 1. 1.\n",
      " 0. 0. 1. 1. 1. 1. 1. 0. 1. 1. 1. 1. 0. 1. 0. 0. 1. 1. 1. 1. 1. 1. 1. 1.\n",
      " 1. 0. 1. 1. 1. 1. 1. 1. 1. 1. 0. 1. 1. 1. 0. 1. 0. 1. 1. 0. 1. 0. 1. 1.\n",
      " 1. 0. 0. 0. 1. 0. 1. 0. 1. 1. 0. 1. 1. 1. 1. 1. 1. 1. 0. 0. 0. 1. 1.]\n",
      "\n",
      " y_test :\n",
      "[0 1 0 1 1 1 1 1 1 0 1 1 1 0 1 1 1 1 1 1 0 1 1 0 1 0 1 1 0 0 0 1 1 1 1 1 0\n",
      " 1 1 0 0 1 1 1 0 1 1 1 1 1 1 1 1 1 1 1 0 1 1 0 1 0 1 1 0 1 1 1 1 1 1 1 0 0\n",
      " 1 1 1 1 1 0 1 1 1 1 0 1 0 0 1 1 1 0 1 1 1 1 1 0 1 1 1 1 1 1 1 0 0 1 1 1 0\n",
      " 1 0 1 1 0 1 0 1 1 1 0 0 0 1 0 1 0 1 1 0 1 1 1 1 1 1 1 0 0 0 1 1]\n",
      "True positives : 38\n",
      "False positives : 3\n",
      "False negatives : 0\n",
      "True negatives : 102\n"
     ]
    }
   ],
   "source": [
    "z = np.dot(X_test, w) + b\n",
    "z *= -1\n",
    "ez = np.power(math.e, z)\n",
    "modelPredictions = 1 / (1+ez)\n",
    "modelPredictions[modelPredictions < 0.5] = 0\n",
    "\n",
    "# print(modelPredictions)\n",
    "print(\"Model Predictions : \")\n",
    "print(modelPredictions)\n",
    "print(\"\\n y_test :\")\n",
    "print(y_test)\n",
    "\n",
    "cm = confusion_matrix(y_test, modelPredictions)\n",
    "print(\"True positives :\", cm[0][0])\n",
    "print(\"False positives :\", cm[0][1])\n",
    "print(\"False negatives :\", cm[1][0])\n",
    "print(\"True negatives :\", cm[1][1])"
   ]
  }
 ],
 "metadata": {
  "kernelspec": {
   "display_name": "Python 3",
   "language": "python",
   "name": "python3"
  },
  "language_info": {
   "codemirror_mode": {
    "name": "ipython",
    "version": 3
   },
   "file_extension": ".py",
   "mimetype": "text/x-python",
   "name": "python",
   "nbconvert_exporter": "python",
   "pygments_lexer": "ipython3",
   "version": "3.11.1"
  },
  "orig_nbformat": 4
 },
 "nbformat": 4,
 "nbformat_minor": 2
}
