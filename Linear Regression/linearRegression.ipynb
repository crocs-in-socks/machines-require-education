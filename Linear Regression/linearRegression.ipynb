{
 "cells": [
  {
   "attachments": {},
   "cell_type": "markdown",
   "metadata": {},
   "source": [
    "LINEAR REGRESSION :\n",
    "\n",
    "Here, we try to implement the linear regression model first on our own.\n",
    "\n",
    "We first import the dataset we're using (California Housing Dataset)"
   ]
  },
  {
   "cell_type": "code",
   "execution_count": 1,
   "metadata": {},
   "outputs": [
    {
     "name": "stdout",
     "output_type": "stream",
     "text": [
      "longitude               0\n",
      "latitude                0\n",
      "housing_median_age      0\n",
      "total_rooms             0\n",
      "total_bedrooms        207\n",
      "population              0\n",
      "households              0\n",
      "median_income           0\n",
      "median_house_value      0\n",
      "ocean_proximity         0\n",
      "dtype: int64\n"
     ]
    }
   ],
   "source": [
    "from sklearn.model_selection import train_test_split\n",
    "from sklearn.metrics import mean_absolute_error\n",
    "import pandas as pd\n",
    "import matplotlib.pyplot as plt\n",
    "import numpy as np\n",
    "\n",
    "data = pd.read_csv('D:\\\\Program Files\\\\Machine Learning\\\\Linear Regression\\\\housing.csv')\n",
    "\n",
    "# This shows which columns are missing entries in the dataset\n",
    "print(data.isnull().sum())\n",
    "\n",
    "data = data.dropna()"
   ]
  },
  {
   "attachments": {},
   "cell_type": "markdown",
   "metadata": {},
   "source": [
    "From this, we can see that the available features in the dataset. Taking all features into account. Hence, taking only these features into account, and applying feature scaling to them :"
   ]
  },
  {
   "cell_type": "code",
   "execution_count": 2,
   "metadata": {},
   "outputs": [
    {
     "name": "stdout",
     "output_type": "stream",
     "text": [
      "number of features = 6\n",
      "Shape of X = (20433, 6)\n",
      "Shape of y = (20433,)\n",
      "[52.0, 39320.0, 6445.0, 35682.0, 6082.0, 15.0001]\n",
      "Shape of X_train = (15324, 6)\n",
      "Shape of X_test = (5109, 6)\n",
      "Shape of y_train = (15324,)\n",
      "Shape of y_test = (5109,)\n"
     ]
    }
   ],
   "source": [
    "X = data.loc[:,\"housing_median_age\":\"median_income\"]\n",
    "y = data.loc[:,\"median_house_value\"]\n",
    "\n",
    "noOfFeatures = len(X.columns)\n",
    "\n",
    "X = X.to_numpy()\n",
    "y = y.to_numpy()\n",
    "\n",
    "print(\"number of features =\",noOfFeatures)\n",
    "print(\"Shape of X =\", X.shape)\n",
    "print(\"Shape of y =\", y.shape)\n",
    "\n",
    "maxValues = [X[:,i].max() for i in range(noOfFeatures)]\n",
    "print(maxValues)\n",
    "\n",
    "for i in range(noOfFeatures):\n",
    "    X[:, i] = X[:, i] / maxValues[i]\n",
    "\n",
    "# ymax = y.max()\n",
    "\n",
    "# y = y / y.max()\n",
    "\n",
    "X_train, X_test, y_train, y_test = train_test_split(X, y)\n",
    "print(\"Shape of X_train =\", X_train.shape)\n",
    "print(\"Shape of X_test =\", X_test.shape)\n",
    "print(\"Shape of y_train =\", y_train.shape)\n",
    "print(\"Shape of y_test =\", y_test.shape)"
   ]
  },
  {
   "attachments": {},
   "cell_type": "markdown",
   "metadata": {},
   "source": [
    "Now, creating an ndarray for the weights of each feature, and setting learning rate :"
   ]
  },
  {
   "cell_type": "code",
   "execution_count": 3,
   "metadata": {},
   "outputs": [
    {
     "name": "stdout",
     "output_type": "stream",
     "text": [
      "The set of weights initially is : [0. 0. 0. 0. 0. 0.]\n",
      "Shape of w is : (6,)\n",
      "The number of training examples is : 15324\n",
      "The learning rate is set to : 0.01\n",
      "The initial value of b is : 0.0\n"
     ]
    }
   ],
   "source": [
    "w = np.array([0.0 for i in range(noOfFeatures)])\n",
    "# w = np.transpose(w)\n",
    "\n",
    "print(\"The set of weights initially is :\", w)\n",
    "print(\"Shape of w is :\", w.shape)\n",
    "\n",
    "b = 0.0\n",
    "alpha = 0.01\n",
    "\n",
    "m = X_train.shape[0]\n",
    "print(\"The number of training examples is :\", m)\n",
    "print(\"The learning rate is set to :\", alpha)\n",
    "print(\"The initial value of b is :\", b)\n",
    "\n",
    "# print((np.transpose(np.dot(w, np.transpose(X_train))) + b).shape)"
   ]
  },
  {
   "attachments": {},
   "cell_type": "markdown",
   "metadata": {},
   "source": [
    "The function of the model is given by f, where :\n",
    "\n",
    "    f = np.dot(w, x) + b\n",
    "\n",
    "Also, we calculate the cost function simultaneously in order to plot it against the number of iterations to check if it has converged."
   ]
  },
  {
   "cell_type": "code",
   "execution_count": 4,
   "metadata": {},
   "outputs": [],
   "source": [
    "J = []\n",
    "\n",
    "noOfIterations = 50000\n",
    "# print(X_train)\n",
    "\n",
    "for iteration in range(noOfIterations):\n",
    "    \n",
    "    f = np.dot(X_train, w) + b # This directly calculates the values of f(x) for every training example based on our current weights\n",
    "    # print(f)\n",
    "    \n",
    "    J.append((1/2)*(np.square(np.subtract(f,y_train)).mean()))\n",
    "    \n",
    "    # Calculating the cost for each individual feature\n",
    "    currentError = np.subtract(f, y_train)\n",
    "    for i in range(noOfFeatures):\n",
    "        cost = (np.multiply(currentError, X_train[:,i])).mean()\n",
    "        w[i] = w[i] - (alpha*cost)\n",
    "\n",
    "\n",
    "    # Calculating the b separately\n",
    "    cost = (currentError).mean()\n",
    "    \n",
    "    # Simulataneously updating\n",
    "    b = b - alpha * cost\n",
    "\n",
    "    # print(w)\n",
    "    # print(b)\n",
    "    # print('next')"
   ]
  },
  {
   "attachments": {},
   "cell_type": "markdown",
   "metadata": {},
   "source": [
    "Thus gradient descent is calculated above. Now, inorder to check if J is converging, we plot the cost function against the number of iterations."
   ]
  },
  {
   "cell_type": "code",
   "execution_count": 5,
   "metadata": {},
   "outputs": [
    {
     "name": "stdout",
     "output_type": "stream",
     "text": [
      "The set of weights is now : [106892.88052926   3122.33782048 126083.23957482 -82157.24818173\n",
      " 115685.31587823 650141.18776723]\n",
      "b is now : -36512.3266972322\n"
     ]
    },
    {
     "data": {
      "image/png": "[encoded data removed]",
      "text/plain": [
       "<Figure size 640x480 with 1 Axes>"
      ]
     },
     "metadata": {},
     "output_type": "display_data"
    },
    {
     "name": "stdout",
     "output_type": "stream",
     "text": [
      "28026906382.49553\n",
      "3182263442.2381573\n"
     ]
    }
   ],
   "source": [
    "print(\"The set of weights is now :\", w)\n",
    "print(\"b is now :\", b)\n",
    "\n",
    "iterations = [i for i in range(1, noOfIterations+1)]\n",
    "\n",
    "plt.plot(iterations, J)\n",
    "plt.show()\n",
    "\n",
    "print(J[0])\n",
    "print(J[-1])"
   ]
  },
  {
   "attachments": {},
   "cell_type": "markdown",
   "metadata": {},
   "source": [
    "Now, in order to calculate the mean squared error of our model"
   ]
  },
  {
   "cell_type": "code",
   "execution_count": 6,
   "metadata": {},
   "outputs": [
    {
     "name": "stdout",
     "output_type": "stream",
     "text": [
      "57981.12205163976\n"
     ]
    }
   ],
   "source": [
    "modelPredictions = np.dot(X_test, w) + b\n",
    "# print(modelPredictions)\n",
    "# print(y_test)\n",
    "print(mean_absolute_error(y_test, modelPredictions))"
   ]
  },
  {
   "attachments": {},
   "cell_type": "markdown",
   "metadata": {},
   "source": [
    "Thus, the mean squared error of our model is about 131,000 dollars. Which is actually pretty bad"
   ]
  }
 ],
 "metadata": {
  "kernelspec": {
   "display_name": "Python 3",
   "language": "python",
   "name": "python3"
  },
  "language_info": {
   "codemirror_mode": {
    "name": "ipython",
    "version": 3
   },
   "file_extension": ".py",
   "mimetype": "text/x-python",
   "name": "python",
   "nbconvert_exporter": "python",
   "pygments_lexer": "ipython3",
   "version": "3.11.1"
  },
  "orig_nbformat": 4,
  "vscode": {
   "interpreter": {
    "hash": "8120d7fa7a6d17bf1b0c3cee5e63f667232130b4577d97d258112fd5e2bd90f1"
   }
  }
 },
 "nbformat": 4,
 "nbformat_minor": 2
}
